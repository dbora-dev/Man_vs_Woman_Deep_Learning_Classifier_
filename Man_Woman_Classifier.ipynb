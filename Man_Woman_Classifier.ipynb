{
 "cells": [
  {
   "cell_type": "code",
   "execution_count": 1,
   "id": "62b8516a-10a0-44bf-8e6e-f785fada4531",
   "metadata": {},
   "outputs": [
    {
     "name": "stdout",
     "output_type": "stream",
     "text": [
      "WARNING:tensorflow:From D:\\SOFTWARE\\Anaconda\\Lib\\site-packages\\keras\\src\\losses.py:2976: The name tf.losses.sparse_softmax_cross_entropy is deprecated. Please use tf.compat.v1.losses.sparse_softmax_cross_entropy instead.\n",
      "\n"
     ]
    }
   ],
   "source": [
    "import numpy as np\n",
    "import pandas as pd\n",
    "import tensorflow as tf\n",
    "from tensorflow import keras"
   ]
  },
  {
   "cell_type": "code",
   "execution_count": null,
   "id": "57696f21-0381-4091-a3c5-1e06ded36fe7",
   "metadata": {},
   "outputs": [],
   "source": []
  },
  {
   "cell_type": "code",
   "execution_count": 2,
   "id": "f744d320-06d4-4b23-a2c9-cfb9afd98bf7",
   "metadata": {},
   "outputs": [],
   "source": [
    "from keras.layers import Dense, MaxPool2D, Conv2D, Flatten\n",
    "from keras.models import Sequential"
   ]
  },
  {
   "cell_type": "code",
   "execution_count": 3,
   "id": "d8211dbd-b7c5-439c-ba20-d51d51aa7734",
   "metadata": {},
   "outputs": [],
   "source": [
    "# define a classifier and add Conv Archetectre :"
   ]
  },
  {
   "cell_type": "code",
   "execution_count": 4,
   "id": "1e9a8bfe-3288-44a2-9490-10412ac9e83d",
   "metadata": {},
   "outputs": [],
   "source": [
    "seed = 43\n",
    "np.random.seed(seed)\n",
    "tf.random.set_seed(seed)"
   ]
  },
  {
   "cell_type": "code",
   "execution_count": 5,
   "id": "49770a64-23b1-4f1c-8ce5-c2e8f6add7bb",
   "metadata": {},
   "outputs": [
    {
     "name": "stdout",
     "output_type": "stream",
     "text": [
      "WARNING:tensorflow:From D:\\SOFTWARE\\Anaconda\\Lib\\site-packages\\keras\\src\\backend.py:873: The name tf.get_default_graph is deprecated. Please use tf.compat.v1.get_default_graph instead.\n",
      "\n"
     ]
    }
   ],
   "source": [
    "classifier = Sequential()"
   ]
  },
  {
   "cell_type": "code",
   "execution_count": 6,
   "id": "2cbc01db-677e-4db9-975c-d2f62d8cb79a",
   "metadata": {},
   "outputs": [
    {
     "name": "stdout",
     "output_type": "stream",
     "text": [
      "WARNING:tensorflow:From D:\\SOFTWARE\\Anaconda\\Lib\\site-packages\\keras\\src\\layers\\pooling\\max_pooling2d.py:161: The name tf.nn.max_pool is deprecated. Please use tf.nn.max_pool2d instead.\n",
      "\n",
      "WARNING:tensorflow:From D:\\SOFTWARE\\Anaconda\\Lib\\site-packages\\keras\\src\\optimizers\\__init__.py:309: The name tf.train.Optimizer is deprecated. Please use tf.compat.v1.train.Optimizer instead.\n",
      "\n"
     ]
    }
   ],
   "source": [
    "# add Conv layers to the classifier :\n",
    "classifier.add(Conv2D(32, (3, 3), input_shape = (64, 64, 3), activation = 'relu'))\n",
    "classifier.add(Conv2D(32, (3, 3), activation = 'relu'))\n",
    "classifier.add(MaxPool2D(pool_size = (2, 2)))\n",
    "classifier.add(Conv2D(32, (3, 3), activation = 'relu'))\n",
    "# Pooling\n",
    "classifier.add(MaxPool2D(pool_size = (2, 2)))\n",
    "# Add additional convolutional layer with pooling\n",
    "classifier.add(Conv2D(32, (3, 3), activation = 'relu'))\n",
    "classifier.add(MaxPool2D(pool_size = (2, 2)))\n",
    "#  Flattening\n",
    "classifier.add(Flatten())\n",
    "classifier.add(Dense(units = 128, activation = 'relu'))\n",
    "classifier.add(Dense(128,activation='relu'))\n",
    "classifier.add(Dense(128,activation='relu'))\n",
    "classifier.add(Dense(128,activation='relu'))\n",
    "classifier.add(Dense(units = 1, activation = 'sigmoid'))\n",
    "classifier.compile(loss='binary_crossentropy',optimizer='adam',metrics=['accuracy'])\n"
   ]
  },
  {
   "cell_type": "markdown",
   "id": "3c1d9f24-e04f-4104-8752-8bd7afda2ab5",
   "metadata": {},
   "source": [
    "#### Preprocess the images using tf.keras.preprocessing.image of ImageDataGenerator :"
   ]
  },
  {
   "cell_type": "code",
   "execution_count": 7,
   "id": "57738e0c-f28d-4ea5-9696-2a794cd74e32",
   "metadata": {},
   "outputs": [],
   "source": [
    "from keras.preprocessing.image import ImageDataGenerator"
   ]
  },
  {
   "cell_type": "code",
   "execution_count": 8,
   "id": "6e33214e-83a2-4113-89c3-dc41d11ad9bb",
   "metadata": {},
   "outputs": [],
   "source": [
    "# training data  : process\n",
    "train_datagen = ImageDataGenerator(rescale=1./255)\n",
    "# test data generator :\n",
    "test_datagen = ImageDataGenerator(rescale=1./255)\n"
   ]
  },
  {
   "cell_type": "code",
   "execution_count": 9,
   "id": "701fcfda-c6ef-4438-a16e-8f105a8dacb3",
   "metadata": {},
   "outputs": [
    {
     "name": "stdout",
     "output_type": "stream",
     "text": [
      "Found 47012 images belonging to 2 classes.\n"
     ]
    }
   ],
   "source": [
    "# training set :\n",
    "training_set = train_datagen.flow_from_directory(directory=\"./gender/Training\", target_size=(64,64),batch_size=32,class_mode='binary')"
   ]
  },
  {
   "cell_type": "code",
   "execution_count": 10,
   "id": "284bf8d2-6dcc-42c7-8f5f-db39c7160234",
   "metadata": {},
   "outputs": [
    {
     "name": "stdout",
     "output_type": "stream",
     "text": [
      "Found 11649 images belonging to 2 classes.\n"
     ]
    }
   ],
   "source": [
    "# testing set :\n",
    "testing_set = test_datagen.flow_from_directory(directory=\"./gender/Validation\", target_size=(64,64),batch_size=32,class_mode='binary')"
   ]
  },
  {
   "cell_type": "code",
   "execution_count": 11,
   "id": "3c6f1595-84a5-4b18-8eb9-7f32ef282dc8",
   "metadata": {},
   "outputs": [
    {
     "name": "stderr",
     "output_type": "stream",
     "text": [
      "C:\\Users\\popul\\AppData\\Local\\Temp\\ipykernel_10996\\4097358723.py:2: UserWarning: `Model.fit_generator` is deprecated and will be removed in a future version. Please use `Model.fit`, which supports generators.\n",
      "  classifier.fit_generator(training_set,steps_per_epoch=1000,epochs=4,validation_data=testing_set,validation_steps=2500,shuffle=False,verbose=1)\n"
     ]
    },
    {
     "name": "stdout",
     "output_type": "stream",
     "text": [
      "Epoch 1/4\n",
      "WARNING:tensorflow:From D:\\SOFTWARE\\Anaconda\\Lib\\site-packages\\keras\\src\\utils\\tf_utils.py:492: The name tf.ragged.RaggedTensorValue is deprecated. Please use tf.compat.v1.ragged.RaggedTensorValue instead.\n",
      "\n",
      "WARNING:tensorflow:From D:\\SOFTWARE\\Anaconda\\Lib\\site-packages\\keras\\src\\engine\\base_layer_utils.py:384: The name tf.executing_eagerly_outside_functions is deprecated. Please use tf.compat.v1.executing_eagerly_outside_functions instead.\n",
      "\n",
      "1000/1000 [==============================] - ETA: 0s - loss: 0.2798 - accuracy: 0.8730WARNING:tensorflow:Your input ran out of data; interrupting training. Make sure that your dataset or generator can generate at least `steps_per_epoch * epochs` batches (in this case, 2500 batches). You may need to use the repeat() function when building your dataset.\n",
      "1000/1000 [==============================] - 282s 280ms/step - loss: 0.2798 - accuracy: 0.8730 - val_loss: 0.1607 - val_accuracy: 0.9407\n",
      "Epoch 2/4\n",
      "1000/1000 [==============================] - 115s 115ms/step - loss: 0.1654 - accuracy: 0.9385\n",
      "Epoch 3/4\n",
      "1000/1000 [==============================] - 74s 74ms/step - loss: 0.1494 - accuracy: 0.9445\n",
      "Epoch 4/4\n",
      "1000/1000 [==============================] - 69s 69ms/step - loss: 0.1357 - accuracy: 0.9496\n"
     ]
    },
    {
     "data": {
      "text/plain": [
       "<keras.src.callbacks.History at 0x176a96099d0>"
      ]
     },
     "execution_count": 11,
     "metadata": {},
     "output_type": "execute_result"
    }
   ],
   "source": [
    "# train the model :\n",
    "classifier.fit_generator(training_set,steps_per_epoch=1000,epochs=4,validation_data=testing_set,validation_steps=2500,shuffle=False,verbose=1)"
   ]
  },
  {
   "cell_type": "code",
   "execution_count": 12,
   "id": "4fdcaf34-1135-4e3d-8850-4608fa205865",
   "metadata": {},
   "outputs": [],
   "source": [
    "new_img = keras.preprocessing.image.load_img(\"./test_data/test_16.jpg\",target_size=(64,64))\n"
   ]
  },
  {
   "cell_type": "code",
   "execution_count": 13,
   "id": "15ac5690-19cd-4433-87b7-1101345f8e9f",
   "metadata": {},
   "outputs": [
    {
     "data": {
      "image/jpeg": "[encoded data removed]",
      "image/png": "[encoded data removed]",
      "text/plain": [
       "<PIL.Image.Image image mode=RGB size=64x64>"
      ]
     },
     "execution_count": 13,
     "metadata": {},
     "output_type": "execute_result"
    }
   ],
   "source": [
    "new_img"
   ]
  },
  {
   "cell_type": "code",
   "execution_count": 14,
   "id": "1c82ac2c-d91f-4ba9-8f95-0031b723375d",
   "metadata": {},
   "outputs": [
    {
     "data": {
      "text/plain": [
       "{'female': 0, 'male': 1}"
      ]
     },
     "execution_count": 14,
     "metadata": {},
     "output_type": "execute_result"
    }
   ],
   "source": [
    "training_set.class_indices"
   ]
  },
  {
   "cell_type": "code",
   "execution_count": 15,
   "id": "0ecb44e2-5e24-4705-b199-0f127f45c20d",
   "metadata": {},
   "outputs": [
    {
     "name": "stdout",
     "output_type": "stream",
     "text": [
      "1/1 [==============================] - 0s 189ms/step\n"
     ]
    }
   ],
   "source": [
    "new_img_ = keras.preprocessing.image.img_to_array(new_img)\n",
    "new_img_ = np.expand_dims(new_img_,axis=0)\n",
    "result = classifier.predict(new_img_)"
   ]
  },
  {
   "cell_type": "code",
   "execution_count": 16,
   "id": "e49111c6-7651-4bbf-82a7-c957c731f829",
   "metadata": {},
   "outputs": [
    {
     "data": {
      "text/plain": [
       "array([[1.]], dtype=float32)"
      ]
     },
     "execution_count": 16,
     "metadata": {},
     "output_type": "execute_result"
    }
   ],
   "source": [
    "result"
   ]
  },
  {
   "cell_type": "code",
   "execution_count": 17,
   "id": "2d7569e4-c6bc-4ca0-b6be-30cea8a5e318",
   "metadata": {},
   "outputs": [
    {
     "data": {
      "text/plain": [
       "array([[[[194., 190., 181.],\n",
       "         [153., 146., 138.],\n",
       "         [184., 177., 169.],\n",
       "         ...,\n",
       "         [198., 186., 172.],\n",
       "         [131., 115., 100.],\n",
       "         [ 58.,  41.,  25.]],\n",
       "\n",
       "        [[175., 167., 156.],\n",
       "         [173., 166., 156.],\n",
       "         [157., 151., 139.],\n",
       "         ...,\n",
       "         [195., 188., 180.],\n",
       "         [203., 196., 186.],\n",
       "         [184., 180., 169.]],\n",
       "\n",
       "        [[181., 174., 168.],\n",
       "         [195., 188., 182.],\n",
       "         [179., 172., 164.],\n",
       "         ...,\n",
       "         [190., 185., 179.],\n",
       "         [196., 189., 181.],\n",
       "         [212., 208., 199.]],\n",
       "\n",
       "        ...,\n",
       "\n",
       "        [[  5.,   8.,  15.],\n",
       "         [ 24.,  41.,  71.],\n",
       "         [  0.,   4.,   7.],\n",
       "         ...,\n",
       "         [  0.,   9.,  45.],\n",
       "         [  5.,  23.,  61.],\n",
       "         [107., 126., 158.]],\n",
       "\n",
       "        [[ 34.,  50.,  76.],\n",
       "         [ 14.,  12.,  33.],\n",
       "         [  2.,  10.,  21.],\n",
       "         ...,\n",
       "         [ 75.,  94., 136.],\n",
       "         [ 41.,  56.,  97.],\n",
       "         [ 79., 101., 138.]],\n",
       "\n",
       "        [[ 22.,  33.,  55.],\n",
       "         [ 13.,  33.,  58.],\n",
       "         [ 28.,  32.,  44.],\n",
       "         ...,\n",
       "         [  0.,  12.,  51.],\n",
       "         [138., 157., 199.],\n",
       "         [ 65.,  86., 131.]]]], dtype=float32)"
      ]
     },
     "execution_count": 17,
     "metadata": {},
     "output_type": "execute_result"
    }
   ],
   "source": [
    "new_img_"
   ]
  },
  {
   "cell_type": "code",
   "execution_count": 18,
   "id": "4f59d3aa-73e3-4a58-a00f-34d434d0166e",
   "metadata": {},
   "outputs": [
    {
     "name": "stdout",
     "output_type": "stream",
     "text": [
      "Male\n"
     ]
    }
   ],
   "source": [
    "if result[0][0] == 1:\n",
    "    prediction = 'Male'\n",
    "elif (result[0][0] == 0):\n",
    "    prediction = 'Female'\n",
    "else:\n",
    "    prediction = 'Cannot Recognize'\n",
    "    \n",
    "print(prediction)"
   ]
  },
  {
   "cell_type": "code",
   "execution_count": null,
   "id": "717dcccd-5703-4290-8716-e2d1410cdb15",
   "metadata": {},
   "outputs": [],
   "source": []
  },
  {
   "cell_type": "code",
   "execution_count": null,
   "id": "fada7830-a5b4-41a4-bf9c-1d954491b501",
   "metadata": {},
   "outputs": [],
   "source": []
  },
  {
   "cell_type": "code",
   "execution_count": null,
   "id": "341d8da0-ceb4-4d40-938c-14a7e683f31d",
   "metadata": {},
   "outputs": [],
   "source": []
  },
  {
   "cell_type": "code",
   "execution_count": null,
   "id": "e04ca50a-e34e-4099-9604-fafdbc0b7de1",
   "metadata": {},
   "outputs": [],
   "source": []
  },
  {
   "cell_type": "code",
   "execution_count": null,
   "id": "1885bca0-0372-47f1-ad4d-33b97d857381",
   "metadata": {},
   "outputs": [],
   "source": []
  },
  {
   "cell_type": "code",
   "execution_count": null,
   "id": "1ad91087-3f31-4acd-a835-82b8289815fa",
   "metadata": {},
   "outputs": [],
   "source": []
  }
 ],
 "metadata": {
  "kernelspec": {
   "display_name": "Python 3 (ipykernel)",
   "language": "python",
   "name": "python3"
  },
  "language_info": {
   "codemirror_mode": {
    "name": "ipython",
    "version": 3
   },
   "file_extension": ".py",
   "mimetype": "text/x-python",
   "name": "python",
   "nbconvert_exporter": "python",
   "pygments_lexer": "ipython3",
   "version": "3.11.5"
  }
 },
 "nbformat": 4,
 "nbformat_minor": 5
}
